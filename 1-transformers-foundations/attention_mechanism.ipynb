{
 "cells": [
  {
   "cell_type": "code",
   "execution_count": 5,
   "id": "ef03000f-558d-43f7-982e-879ca0a3423f",
   "metadata": {},
   "outputs": [
    {
     "name": "stderr",
     "output_type": "stream",
     "text": [
      "[nltk_data] Downloading package punkt_tab to\n",
      "[nltk_data]     /home/paradox/nltk_data...\n",
      "[nltk_data]   Unzipping tokenizers/punkt_tab.zip.\n"
     ]
    },
    {
     "data": {
      "text/plain": [
       "True"
      ]
     },
     "execution_count": 5,
     "metadata": {},
     "output_type": "execute_result"
    }
   ],
   "source": [
    "import nltk\n",
    "nltk.download('punkt_tab')"
   ]
  },
  {
   "cell_type": "code",
   "execution_count": 3,
   "id": "0e012b64-05f9-4451-bc19-cd89780871b1",
   "metadata": {},
   "outputs": [],
   "source": [
    "import numpy as np\n",
    "from nltk import word_tokenize\n"
   ]
  },
  {
   "cell_type": "code",
   "execution_count": 4,
   "id": "bd337778-8f88-40cc-a96a-47b1c741556d",
   "metadata": {},
   "outputs": [],
   "source": [
    "sentence= \"Transfomers are easy to understand and implement\""
   ]
  },
  {
   "cell_type": "code",
   "execution_count": 5,
   "id": "870d31e2-c51a-4b4f-9c3f-1f5c24a55357",
   "metadata": {},
   "outputs": [
    {
     "name": "stdout",
     "output_type": "stream",
     "text": [
      "['transfomers', 'are', 'easy', 'to', 'understand', 'and', 'implement']\n"
     ]
    }
   ],
   "source": [
    "sentence=sentence.lower()\n",
    "tokens=word_tokenize(sentence)\n",
    "print(tokens)"
   ]
  },
  {
   "cell_type": "code",
   "execution_count": 6,
   "id": "7d9cc91c-cbbd-4860-9721-6aa2f1a73008",
   "metadata": {},
   "outputs": [],
   "source": [
    "embedding_dim=4\n",
    "np.random.seed(42)"
   ]
  },
  {
   "cell_type": "code",
   "execution_count": 7,
   "id": "e4d9a40e-4ffd-44bc-bdf9-d34b3d3f8c58",
   "metadata": {},
   "outputs": [
    {
     "name": "stdout",
     "output_type": "stream",
     "text": [
      "{'and': array([-0.25091976,  0.90142861,  0.46398788,  0.19731697]), 'are': array([-0.68796272, -0.68801096, -0.88383278,  0.73235229]), 'easy': array([ 0.20223002,  0.41614516, -0.95883101,  0.9398197 ]), 'implement': array([ 0.66488528, -0.57532178, -0.63635007, -0.63319098]), 'to': array([-0.39151551,  0.04951286, -0.13610996, -0.41754172]), 'transfomers': array([ 0.22370579, -0.72101228, -0.4157107 , -0.26727631]), 'understand': array([-0.08786003,  0.57035192, -0.60065244,  0.02846888])}\n"
     ]
    }
   ],
   "source": [
    "word_embeddings={}\n",
    "for word in sorted(list(set(tokens))):\n",
    "    word_embeddings[word]=np.random.rand(embedding_dim)*2-1\n",
    "\n",
    "print(word_embeddings)"
   ]
  },
  {
   "cell_type": "code",
   "execution_count": 9,
   "id": "11e06a8a-ec62-4bc6-a5da-0b17b6233438",
   "metadata": {},
   "outputs": [
    {
     "name": "stdout",
     "output_type": "stream",
     "text": [
      "[[ 0.22370579 -0.72101228 -0.4157107  -0.26727631]\n",
      " [-0.68796272 -0.68801096 -0.88383278  0.73235229]\n",
      " [ 0.20223002  0.41614516 -0.95883101  0.9398197 ]\n",
      " [-0.39151551  0.04951286 -0.13610996 -0.41754172]\n",
      " [-0.08786003  0.57035192 -0.60065244  0.02846888]\n",
      " [-0.25091976  0.90142861  0.46398788  0.19731697]\n",
      " [ 0.66488528 -0.57532178 -0.63635007 -0.63319098]]\n"
     ]
    }
   ],
   "source": [
    "temp = []\n",
    "for token in tokens:\n",
    "    temp.append(word_embeddings[token])\n",
    "X= np.array(temp)\n",
    "print(X)"
   ]
  },
  {
   "cell_type": "code",
   "execution_count": 16,
   "id": "e8ca04ab-2863-457e-a156-9323688eddb4",
   "metadata": {},
   "outputs": [
    {
     "name": "stdout",
     "output_type": "stream",
     "text": [
      "[[0.07713206 0.00207519 0.06336482]\n",
      " [0.07488039 0.0498507  0.02247966]\n",
      " [0.01980629 0.07605307 0.01691108]\n",
      " [0.00883398 0.06853598 0.09533933]]\n"
     ]
    }
   ],
   "source": [
    "query_dim = 3\n",
    "np.random.seed(10)\n",
    "Wq=np.random.rand(embedding_dim,query_dim)*0.1\n",
    "print(Wq)"
   ]
  },
  {
   "cell_type": "code",
   "execution_count": 14,
   "id": "8b015fe1-9f30-4013-9264-2be053847a6c",
   "metadata": {},
   "outputs": [
    {
     "name": "stdout",
     "output_type": "stream",
     "text": [
      "[[-0.04732959 -0.08541285 -0.0345451 ]\n",
      " [-0.11561837 -0.0527512  -0.00418348]\n",
      " [ 0.036071    0.01265422  0.09555599]\n",
      " [-0.03287525 -0.03731243 -0.0658052 ]\n",
      " [ 0.02428615 -0.0154802  -0.0001894 ]\n",
      " [ 0.05907834  0.09322716  0.03102293]\n",
      " [-0.00999367 -0.11909317 -0.04193208]]\n"
     ]
    }
   ],
   "source": [
    "Q = X @ Wq\n",
    "print(Q)"
   ]
  },
  {
   "cell_type": "code",
   "execution_count": 19,
   "id": "f6f7e046-6187-4c94-a789-f04ee032cece",
   "metadata": {},
   "outputs": [
    {
     "name": "stdout",
     "output_type": "stream",
     "text": [
      "[[0.05881308 0.08977137 0.08915307]\n",
      " [0.08158375 0.00358896 0.06917576]\n",
      " [0.03786809 0.05185109 0.06579515]\n",
      " [0.01938502 0.02723164 0.07186059]]\n"
     ]
    }
   ],
   "source": [
    "\n",
    "np.random.seed(20)\n",
    "Wk=np.random.rand(embedding_dim,query_dim)*0.1\n",
    "print(Wk)"
   ]
  },
  {
   "cell_type": "code",
   "execution_count": 20,
   "id": "b16bb715-8a2f-4fc0-8f95-376067e24544",
   "metadata": {},
   "outputs": [
    {
     "name": "stdout",
     "output_type": "stream",
     "text": [
      "[[-0.06658939 -0.01133873 -0.07649089]\n",
      " [-0.11586412 -0.09011314 -0.11445231]\n",
      " [ 0.02775377 -0.00447561  0.05126616]\n",
      " [-0.03223507 -0.05339698 -0.07043989]\n",
      " [ 0.01917044 -0.03620958 -0.00585269]\n",
      " [ 0.08017989  0.01014132  0.08469421]\n",
      " [-0.04420474  0.00738458 -0.06789198]]\n"
     ]
    }
   ],
   "source": [
    "K = X @ Wk\n",
    "print(K)"
   ]
  },
  {
   "cell_type": "code",
   "execution_count": 21,
   "id": "142d7ac0-d22a-44ce-8a8c-c831d8e17ff0",
   "metadata": {},
   "outputs": [
    {
     "name": "stdout",
     "output_type": "stream",
     "text": [
      "[[0.06441435 0.03807485 0.06630479]\n",
      " [0.01636507 0.09626078 0.03466618]\n",
      " [0.0991751  0.02350579 0.05856943]\n",
      " [0.04066901 0.01362343 0.05441363]]\n"
     ]
    }
   ],
   "source": [
    "np.random.seed(30)\n",
    "Wv=np.random.rand(embedding_dim,query_dim)*0.1\n",
    "print(Wv)"
   ]
  },
  {
   "cell_type": "code",
   "execution_count": 22,
   "id": "959efe22-b40e-4378-840f-79114fc256f8",
   "metadata": {},
   "outputs": [
    {
     "name": "stdout",
     "output_type": "stream",
     "text": [
      "[[-0.04948757 -0.07430047 -0.04905339]\n",
      " [-0.11344418 -0.10322058 -0.08138157]\n",
      " [-0.03703386  0.03802383  0.0228158 ]\n",
      " [-0.05488866 -0.01902847 -0.05493477]\n",
      " [-0.05473756  0.0378263  -0.01968439]\n",
      " [ 0.05262984  0.09081303  0.05252414]\n",
      " [-0.05544836 -0.05364966 -0.04758401]]\n"
     ]
    }
   ],
   "source": [
    "V= X @ Wv\n",
    "print(V)"
   ]
  },
  {
   "cell_type": "code",
   "execution_count": 25,
   "id": "fc98871c-376b-47c7-aac1-49efbec6f941",
   "metadata": {},
   "outputs": [],
   "source": [
    "mata= np.dot(Q,K.T)\n",
    "mata=mata/np.sqrt(query_dim)\n"
   ]
  },
  {
   "cell_type": "code",
   "execution_count": 52,
   "id": "98a171d6-e15c-4fa9-8143-95c99aab68e4",
   "metadata": {},
   "outputs": [],
   "source": [
    "def softmax(x,axis=-1):\n",
    "    exp_x = np.exp(x - np.max(x,axis=axis, keepdims=True))  \n",
    "    return exp_x / np.sum(exp_x,axis=axis, keepdims=True)"
   ]
  },
  {
   "cell_type": "code",
   "execution_count": 53,
   "id": "6a5031b9-31e0-480a-a6af-c45b77886b13",
   "metadata": {},
   "outputs": [
    {
     "name": "stdout",
     "output_type": "stream",
     "text": [
      "[[0.14308007 0.14393943 0.14230034 0.14322531 0.14271913 0.1418996\n",
      "  0.14283611]\n",
      " [0.14326671 0.1440972  0.14229364 0.14311966 0.14253252 0.14172199\n",
      "  0.14296828]\n",
      " [0.14235014 0.14182499 0.14364615 0.14245581 0.14313542 0.1440839\n",
      "  0.14250359]\n",
      " [0.14320316 0.14378783 0.14223377 0.14320661 0.14266348 0.14186728\n",
      "  0.14303787]\n",
      " [0.14274424 0.14274671 0.14292243 0.14286662 0.14294666 0.14300832\n",
      "  0.14276502]\n",
      " [0.14260851 0.1416703  0.14344889 0.14246831 0.14301577 0.14390487\n",
      "  0.14288334]\n",
      " [0.14292316 0.14387241 0.14233707 0.14328767 0.14285245 0.14203609\n",
      "  0.14269114]]\n"
     ]
    }
   ],
   "source": [
    "tt=softmax(mata)\n",
    "print(tt)"
   ]
  },
  {
   "cell_type": "code",
   "execution_count": 58,
   "id": "7c3529a5-f97f-4c3b-a402-eaa0f2657400",
   "metadata": {},
   "outputs": [
    {
     "name": "stdout",
     "output_type": "stream",
     "text": [
      "1.0\n",
      "0.9999999999999999\n",
      "1.0000000000000002\n",
      "1.0\n",
      "0.9999999999999999\n",
      "1.0000000000000002\n",
      "0.9999999999999999\n"
     ]
    }
   ],
   "source": [
    "sum=0.0\n",
    "for i in tt:\n",
    "    for t in i:\n",
    "        sum+=t\n",
    "    print(sum)\n",
    "    sum=0.0"
   ]
  },
  {
   "cell_type": "code",
   "execution_count": 59,
   "id": "e0202116-d8bc-42d3-9350-3af973c64de8",
   "metadata": {},
   "outputs": [
    {
     "name": "stdout",
     "output_type": "stream",
     "text": [
      "[[-0.04480512 -0.01218122 -0.02550683]\n",
      " [-0.04483267 -0.0122399  -0.02553512]\n",
      " [-0.04442612 -0.01161097 -0.02510362]\n",
      " [-0.04480037 -0.01219276 -0.02551123]\n",
      " [-0.04460671 -0.01188957 -0.02530226]\n",
      " [-0.04443867 -0.0116631  -0.02513401]\n",
      " [-0.04478662 -0.01213722 -0.02548483]]\n"
     ]
    }
   ],
   "source": [
    "Z = tt @ V  \n",
    "print(Z)"
   ]
  },
  {
   "cell_type": "code",
   "execution_count": null,
   "id": "5dce3602-568e-40bb-83e3-ed623472f45f",
   "metadata": {},
   "outputs": [],
   "source": []
  }
 ],
 "metadata": {
  "kernelspec": {
   "display_name": "Python 3 (ipykernel)",
   "language": "python",
   "name": "python3"
  },
  "language_info": {
   "codemirror_mode": {
    "name": "ipython",
    "version": 3
   },
   "file_extension": ".py",
   "mimetype": "text/x-python",
   "name": "python",
   "nbconvert_exporter": "python",
   "pygments_lexer": "ipython3",
   "version": "3.10.12"
  }
 },
 "nbformat": 4,
 "nbformat_minor": 5
}
